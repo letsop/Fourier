{
 "cells": [
  {
   "cell_type": "markdown",
   "id": "252d4fa6",
   "metadata": {},
   "source": [
    "# Fil rouge : les calculs de Le Verrier pour la découverte de Neptune"
   ]
  },
  {
   "cell_type": "code",
   "execution_count": null,
   "id": "22ca09fb",
   "metadata": {},
   "outputs": [],
   "source": [
    "import numpy as np\n",
    "from numpy import pi,exp,zeros,linspace,real,imag,reshape,cos\n",
    "from numpy.linalg import norm\n",
    "import matplotlib.pyplot as plt\n",
    "from matplotlib.pyplot import plot,legend,xlabel,ylabel,subplot,title\n",
    "import scipy\n",
    "from scipy.integrate import odeint\n",
    "%matplotlib inline    \n"
   ]
  },
  {
   "cell_type": "markdown",
   "id": "e0e7f399",
   "metadata": {},
   "source": [
    "$$\\alpha=\\dfrac{2r}{1+r^2}$$\n",
    "$$f(\\theta)=\\dfrac{1}{\\sqrt{1+\\alpha\\cos(\\theta)}}$$\n"
   ]
  },
  {
   "cell_type": "code",
   "execution_count": null,
   "id": "4b106dde",
   "metadata": {},
   "outputs": [],
   "source": [
    "r=0.3  #ratio of distances to Sun of 2 planets\n",
    "alpha=2*r/(1+r**2)\n",
    "print(alpha)"
   ]
  },
  {
   "cell_type": "code",
   "execution_count": null,
   "id": "98c80fe0",
   "metadata": {},
   "outputs": [],
   "source": [
    "def f(theta):\n",
    "    return 1/(1+alpha*cos(theta))**0.5"
   ]
  },
  {
   "cell_type": "markdown",
   "id": "3c02d740",
   "metadata": {},
   "source": [
    "Décomposition en série de Fourier d'une fonction $f$ périodique\n",
    "$$f(\\theta)=\\sum_{n=-\\infty}^{n=+\\infty} a_ne^{in\\theta}$$\n",
    "avec $$a_n=\\dfrac{1}{2\\pi}\\int_0^{2\\pi}f(\\theta)e^{-in\\theta}d\\theta$$"
   ]
  },
  {
   "cell_type": "markdown",
   "id": "79017e49",
   "metadata": {},
   "source": [
    " Approximation du calcul de $a_n$\n",
    "       "
   ]
  },
  {
   "cell_type": "markdown",
   "id": "e9b90fb1",
   "metadata": {},
   "source": [
    "Points de colocation : points de calculs pour l'approximation de  l'intégrale d'une fonction périodique (quadrature des trapèzes)\n",
    "$$\\int_0^{2\\pi} f(\\theta)d\\theta\\approx \\frac{2\\pi}{N}\\sum_{k=0}^{N-1} f(\\theta_k)$$\n",
    "avec $$\\theta_k=k\\theta_0,\\quad \\theta_0=\\dfrac{2\\pi}{N},\\quad k=0,\\ldots,N$$"
   ]
  },
  {
   "cell_type": "code",
   "execution_count": null,
   "id": "8245d132",
   "metadata": {},
   "outputs": [],
   "source": [
    "def Fourier_Coloc(Nint):\n",
    "# collocation points for numerical integration\n",
    "# compute N collocation points in [O,2 pi[\n",
    "     y=linspace(0,2*pi,Nint+1)\n",
    "     return y[:-1]"
   ]
  },
  {
   "cell_type": "code",
   "execution_count": null,
   "id": "5e095325",
   "metadata": {},
   "outputs": [],
   "source": [
    "Nf=7;  # degree of the truncated Fourier  serie\n",
    "Nbf=2*Nf+1; # number of terms in the Fourier serie\n",
    "a=zeros((Nbf),dtype=complex)\n",
    "Nint=16  # number of collocation points\n",
    "Theta0= Fourier_Coloc(Nint) # collocation points xi\n",
    "Y0=f(Theta0);            # f(xi)\n",
    "for n in range(-Nf,Nf+1):\n",
    "    s=0\n",
    "    for k in range(Nint):\n",
    "        s=s+Y0[k]*exp(-1j*n*Theta0[k])\n",
    "    a[n+Nf]=s/Nint\n",
    "\n"
   ]
  },
  {
   "cell_type": "markdown",
   "id": "5613d05f",
   "metadata": {},
   "source": [
    " Troncature de la série $n=-N_f,\\ldots,N_f$\n",
    "        $$P_N f(\\theta)=\\sum_{n=-N_f}^{n=+N_f} a_ne^{in\\theta}$$\n",
    "          "
   ]
  },
  {
   "cell_type": "code",
   "execution_count": null,
   "id": "167a4d23",
   "metadata": {},
   "outputs": [],
   "source": [
    "def calc_PNf(a,theta,Nf):\n",
    "    s=0.\n",
    "    for n in range(-Nf,Nf+1):\n",
    "        s+=a[n+Nf]*exp(1j*n*theta)\n",
    "    return s\n",
    "    "
   ]
  },
  {
   "cell_type": "markdown",
   "id": "ad113e56",
   "metadata": {},
   "source": [
    "On compare graphiquement $f(\\theta)$ et son approximation $P_Nf(\\theta)$"
   ]
  },
  {
   "cell_type": "code",
   "execution_count": null,
   "id": "8885d883",
   "metadata": {},
   "outputs": [],
   "source": [
    "nbp=100 # number of abscissa points for plot\n",
    "Theta_p=linspace(0,2*pi,nbp)\n",
    "yp=f(Theta_p)  # the true function\n",
    "pny=zeros((nbp,1),dtype=complex)  # the Fourier approximation\n",
    "for k in range(nbp):\n",
    "    pny[k]=calc_PNf(a,Theta_p[k],Nf)\n",
    "plot(Theta_p,yp,label='f')\n",
    "plot(Theta_p,real(pny),'--',label='Real(Pnf)')\n",
    "legend()"
   ]
  },
  {
   "cell_type": "code",
   "execution_count": null,
   "id": "97c3df83",
   "metadata": {},
   "outputs": [],
   "source": [
    "subplot(1,2,1)\n",
    "plot(Theta_p,reshape(yp,(nbp,1))-real(pny),label='error')\n",
    "title(r'$f-Real(P_Nf)$')\n",
    "xlabel(r'$\\theta$')\n",
    "subplot(1,2,2)\n",
    "plot(Theta_p,imag(pny),label='imag(Pnf)')\n",
    "title(r'$Imag(P_Nf)$')\n",
    "xlabel(r'$\\theta$')\n",
    "\n",
    "#plt.plot(xp,np.real(pny),'--',label='Real(Pnf)')\n"
   ]
  },
  {
   "cell_type": "markdown",
   "id": "f2a11e04",
   "metadata": {},
   "source": [
    "Plot des coeffcients en fonction de k"
   ]
  },
  {
   "cell_type": "code",
   "execution_count": null,
   "id": "c9604f98",
   "metadata": {},
   "outputs": [],
   "source": [
    "plot(range(-Nf,Nf+1),real(a),label='real part')\n",
    "plot(range(-Nf,Nf+1),imag(a),label='imag part')\n",
    "xlabel('n')\n",
    "ylabel(r'$a_n$')\n",
    "legend()"
   ]
  },
  {
   "cell_type": "code",
   "execution_count": null,
   "id": "6920a89f",
   "metadata": {},
   "outputs": [],
   "source": [
    "def calc_a(Nf,Nint):\n",
    "    Nbf=2*Nf+1; # number of terms in the Fourier serie\n",
    "    Theta0= Fourier_Coloc(Nint) # collocation points xi\n",
    "    Y0=f(Theta0);            # f(xi)\n",
    "    a=zeros((Nbf),dtype=complex)\n",
    "    for n in range(-Nf,Nf+1):\n",
    "        s=0\n",
    "        for k in range(Nint):\n",
    "            s=s+Y0[k]*exp(-1j*n*Theta0[k])\n",
    "        a[n+Nf]=s/Nint\n",
    "    return a\n",
    "\n"
   ]
  },
  {
   "cell_type": "markdown",
   "id": "7694b0ed",
   "metadata": {},
   "source": [
    "   \n",
    "   <ul>\n",
    "    <li>Mercure : 0,38 au\n",
    "    <li>Vénus : 0,72 au\n",
    "    <li>Terre : 1,00 au\n",
    "    <li>Mars : 1,52 au\n",
    "    <li>Jupiter : 5,21 au\n",
    "    <li>Saturne : 9,54 au\n",
    "    <li>Uranus : 19,18 au\n",
    "    <li>Neptune : 30,11 au\n",
    "    </ul>"
   ]
  },
  {
   "cell_type": "code",
   "execution_count": null,
   "id": "52f02af5",
   "metadata": {},
   "outputs": [],
   "source": [
    "# Exemple Uranus/Neptune\n",
    "r=19.18/30.11\n",
    "alpha=2*r/(1+r**2)\n",
    "print('r={} alpha={}'.format(r,alpha))"
   ]
  },
  {
   "cell_type": "code",
   "execution_count": null,
   "id": "55c263d2",
   "metadata": {},
   "outputs": [],
   "source": []
  },
  {
   "cell_type": "code",
   "execution_count": null,
   "id": "1c90472c",
   "metadata": {},
   "outputs": [],
   "source": [
    "alpha_=[]\n",
    "r_=[k/nbp for k in range(nbp)]\n",
    "alpha_=[2*r/(1+r**2) for r in r_]\n",
    "plot(r_,alpha_) \n",
    "xlabel('r')\n",
    "ylabel(r'$\\alpha$')"
   ]
  },
  {
   "cell_type": "code",
   "execution_count": null,
   "id": "26f6ffe8",
   "metadata": {},
   "outputs": [],
   "source": [
    "r=0.3\n",
    "nbp=100\n",
    "Theta_p=linspace(0,2*pi,nbp)\n",
    "yp=f(Theta_p)  # the true function\n",
    "plot(Theta_p,yp,label='f')\n",
    "\n",
    "Nint=16 # number of collocation points\n",
    "Er_=[]\n",
    "Nf_=range(2,15,2)  # Max degree of truncated Fourier serie\n",
    "for Nf in Nf_:\n",
    "    a=calc_a(Nf,Nint)\n",
    "    pny=zeros((nbp,1),dtype=complex)  # the Fourier approximation\n",
    "    for k in range(nbp):\n",
    "        pny[k]=calc_PNf(a,Theta_p[k],Nf)\n",
    "    plot(Theta_p,real(pny),'--',label='P_{}f'.format(Nf))\n",
    "    # compute max error between f and P_Nf\n",
    "    Er=norm(reshape(yp,(nbp,1))-real(pny),np.inf) \n",
    "    Er_.append(Er)\n",
    "legend()"
   ]
  },
  {
   "cell_type": "code",
   "execution_count": null,
   "id": "0a0608e3",
   "metadata": {},
   "outputs": [],
   "source": [
    "plot(Nf_,Er_,'-o')\n",
    "xlabel(r'$N_f$')\n",
    "ylabel(r'$||f-P_Nf||_\\infty$')\n",
    "title('Truncated Fourier serie error for '+r'$N_{int}$'+'={}'.format(Nint))"
   ]
  },
  {
   "cell_type": "code",
   "execution_count": null,
   "id": "26942cd5",
   "metadata": {},
   "outputs": [],
   "source": []
  },
  {
   "cell_type": "code",
   "execution_count": null,
   "id": "b2be4540",
   "metadata": {},
   "outputs": [],
   "source": []
  },
  {
   "cell_type": "code",
   "execution_count": null,
   "id": "fe760e75",
   "metadata": {},
   "outputs": [],
   "source": []
  },
  {
   "cell_type": "code",
   "execution_count": null,
   "id": "fa01e288",
   "metadata": {},
   "outputs": [],
   "source": []
  }
 ],
 "metadata": {
  "kernelspec": {
   "display_name": "Python 3 (ipykernel)",
   "language": "python",
   "name": "python3"
  },
  "language_info": {
   "codemirror_mode": {
    "name": "ipython",
    "version": 3
   },
   "file_extension": ".py",
   "mimetype": "text/x-python",
   "name": "python",
   "nbconvert_exporter": "python",
   "pygments_lexer": "ipython3",
   "version": "3.9.7"
  }
 },
 "nbformat": 4,
 "nbformat_minor": 5
}
